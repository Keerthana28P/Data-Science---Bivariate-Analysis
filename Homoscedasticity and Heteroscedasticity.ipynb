{
 "cells": [
  {
   "cell_type": "code",
   "execution_count": 25,
   "id": "3d5b6fb9-6653-47b5-b58b-167628657015",
   "metadata": {},
   "outputs": [],
   "source": [
    "import numpy as np\n",
    "import pandas as pd\n",
    "import statsmodels.api as sm\n",
    "from statsmodels.stats.diagnostic import het_breuschpagan, het_white\n",
    "import matplotlib.pyplot as plt\n",
    "from sklearn.preprocessing import StandardScaler"
   ]
  },
  {
   "cell_type": "code",
   "execution_count": 27,
   "id": "ed2e279c-3ebb-46bd-9980-24d6c9f4a701",
   "metadata": {},
   "outputs": [],
   "source": [
    "dataset=pd.read_csv(\"50_Startups.csv\")"
   ]
  },
  {
   "cell_type": "code",
   "execution_count": 29,
   "id": "d74b454a-edb2-48b2-92d2-804f76d02c3f",
   "metadata": {},
   "outputs": [
    {
     "data": {
      "text/plain": [
       "R&D Spend          0\n",
       "Administration     0\n",
       "Marketing Spend    0\n",
       "State              0\n",
       "Profit             0\n",
       "dtype: int64"
      ]
     },
     "execution_count": 29,
     "metadata": {},
     "output_type": "execute_result"
    }
   ],
   "source": [
    "dataset.isnull().sum()"
   ]
  },
  {
   "cell_type": "code",
   "execution_count": 31,
   "id": "066612f4-9b00-4405-b3c5-097b3dbc85de",
   "metadata": {},
   "outputs": [],
   "source": [
    "#Independent and Dependent variable split\n",
    "X=dataset[['R&D Spend','Administration','Marketing Spend']]\n",
    "Y=dataset[['Profit']]"
   ]
  },
  {
   "cell_type": "code",
   "execution_count": 33,
   "id": "3a006af0-1d21-4283-a272-e80af78252e6",
   "metadata": {},
   "outputs": [],
   "source": [
    "# Standardize X variables\n",
    "scaler = StandardScaler()\n",
    "X_scaled = scaler.fit_transform(X)\n",
    "X_scaled = sm.add_constant(X_scaled)  "
   ]
  },
  {
   "cell_type": "code",
   "execution_count": 35,
   "id": "3014560a-dfb9-4327-92c1-304963ff47e7",
   "metadata": {},
   "outputs": [
    {
     "name": "stdout",
     "output_type": "stream",
     "text": [
      "                            OLS Regression Results                            \n",
      "==============================================================================\n",
      "Dep. Variable:                 Profit   R-squared:                       0.951\n",
      "Model:                            OLS   Adj. R-squared:                  0.948\n",
      "Method:                 Least Squares   F-statistic:                     296.0\n",
      "Date:                Thu, 03 Apr 2025   Prob (F-statistic):           4.53e-30\n",
      "Time:                        14:04:16   Log-Likelihood:                -525.39\n",
      "No. Observations:                  50   AIC:                             1059.\n",
      "Df Residuals:                      46   BIC:                             1066.\n",
      "Df Model:                           3                                         \n",
      "Covariance Type:            nonrobust                                         \n",
      "==============================================================================\n",
      "                 coef    std err          t      P>|t|      [0.025      0.975]\n",
      "------------------------------------------------------------------------------\n",
      "const        1.12e+05   1305.649     85.791      0.000    1.09e+05    1.15e+05\n",
      "x1          3.661e+04   2051.533     17.846      0.000    3.25e+04    4.07e+04\n",
      "x2          -743.7733   1415.345     -0.526      0.602   -3592.715    2105.168\n",
      "x3          3296.2630   1991.607      1.655      0.105    -712.633    7305.159\n",
      "==============================================================================\n",
      "Omnibus:                       14.838   Durbin-Watson:                   1.282\n",
      "Prob(Omnibus):                  0.001   Jarque-Bera (JB):               21.442\n",
      "Skew:                          -0.949   Prob(JB):                     2.21e-05\n",
      "Kurtosis:                       5.586   Cond. No.                         2.78\n",
      "==============================================================================\n",
      "\n",
      "Notes:\n",
      "[1] Standard Errors assume that the covariance matrix of the errors is correctly specified.\n"
     ]
    }
   ],
   "source": [
    "# 2. Fit an OLS Model\n",
    "model = sm.OLS(Y, X_scaled).fit()\n",
    "print(model.summary())"
   ]
  },
  {
   "cell_type": "code",
   "execution_count": 37,
   "id": "64135f9c-1193-4cf2-9fc2-a0febba34191",
   "metadata": {},
   "outputs": [],
   "source": [
    "# 3. Homoscedasticity Tests\n",
    "residuals = model.resid\n",
    "fitted_values = model.fittedvalues"
   ]
  },
  {
   "cell_type": "code",
   "execution_count": 39,
   "id": "41740e6d-0d77-4510-9601-baa1b7f8948f",
   "metadata": {},
   "outputs": [
    {
     "name": "stdout",
     "output_type": "stream",
     "text": [
      "Breusch-Pagan Test: p-value = 0.3729\n"
     ]
    }
   ],
   "source": [
    "# (a) Breusch-Pagan test\n",
    "bp_test = het_breuschpagan(residuals, X_scaled)\n",
    "print(f\"Breusch-Pagan Test: p-value = {bp_test[1]:.4f}\")"
   ]
  },
  {
   "cell_type": "code",
   "execution_count": 41,
   "id": "88db4477-9470-4da2-9f5e-54ca7ee9e507",
   "metadata": {},
   "outputs": [
    {
     "name": "stdout",
     "output_type": "stream",
     "text": [
      "White Test: p-value = 0.1922\n"
     ]
    }
   ],
   "source": [
    "# (b) White test\n",
    "white_test = het_white(residuals, X_scaled)\n",
    "print(f\"White Test: p-value = {white_test[1]:.4f}\")"
   ]
  },
  {
   "cell_type": "code",
   "execution_count": 43,
   "id": "80119ba2-6816-4a8d-90e5-7622ebf023cc",
   "metadata": {},
   "outputs": [
    {
     "data": {
      "image/png": "[encoded data removed]",
      "text/plain": [
       "<Figure size 640x480 with 1 Axes>"
      ]
     },
     "metadata": {},
     "output_type": "display_data"
    }
   ],
   "source": [
    "# (c) Residuals vs Fitted Values Plot\n",
    "plt.scatter(fitted_values, residuals, alpha=0.7)\n",
    "plt.axhline(0, color='red', linestyle='--', linewidth=1)\n",
    "plt.xlabel(\"Fitted Values\")\n",
    "plt.ylabel(\"Residuals\")\n",
    "plt.title(\"Residuals vs Fitted Values\")\n",
    "plt.show()"
   ]
  },
  {
   "cell_type": "code",
   "execution_count": null,
   "id": "5cefd293-bbd0-4ceb-af91-972e90cd37e1",
   "metadata": {},
   "outputs": [],
   "source": []
  },
  {
   "cell_type": "code",
   "execution_count": null,
   "id": "f9c61be1-3386-4deb-88e6-c4f289a83e06",
   "metadata": {},
   "outputs": [],
   "source": []
  }
 ],
 "metadata": {
  "kernelspec": {
   "display_name": "Python [conda env:base] *",
   "language": "python",
   "name": "conda-base-py"
  },
  "language_info": {
   "codemirror_mode": {
    "name": "ipython",
    "version": 3
   },
   "file_extension": ".py",
   "mimetype": "text/x-python",
   "name": "python",
   "nbconvert_exporter": "python",
   "pygments_lexer": "ipython3",
   "version": "3.12.7"
  }
 },
 "nbformat": 4,
 "nbformat_minor": 5
}
