{
 "cells": [
  {
   "cell_type": "code",
   "execution_count": 1,
   "id": "f51b8d1e-659c-45cf-9865-5449acd04ba9",
   "metadata": {},
   "outputs": [],
   "source": [
    "import pandas as pd\n",
    "import numpy as np"
   ]
  },
  {
   "cell_type": "code",
   "execution_count": 3,
   "id": "0164323e-2e44-4cbb-bbe9-8edc6e99c160",
   "metadata": {},
   "outputs": [],
   "source": [
    "dataset=pd.read_csv(\"PrePlacementdata.csv\")"
   ]
  },
  {
   "cell_type": "code",
   "execution_count": 13,
   "id": "eaddb462-3903-4bb9-b4f4-0bd1df20b4e9",
   "metadata": {},
   "outputs": [
    {
     "data": {
      "text/plain": [
       "TtestResult(statistic=1.9001627265152634, pvalue=0.05876239427122642, df=213.0)"
      ]
     },
     "execution_count": 13,
     "metadata": {},
     "output_type": "execute_result"
    }
   ],
   "source": [
    "#Independent sample unpaired T-Test\n",
    "from scipy.stats import ttest_ind\n",
    "dataset=dataset.dropna()\n",
    "male=dataset[dataset['gender']=='M']['salary']\n",
    "female=dataset[dataset['gender']=='F']['salary']\n",
    "ttest_ind(male,female)"
   ]
  },
  {
   "cell_type": "code",
   "execution_count": 15,
   "id": "0301e274-ffbb-4b4a-a9c6-568290fbd4c6",
   "metadata": {},
   "outputs": [
    {
     "data": {
      "text/plain": [
       "TtestResult(statistic=0.6852881050898076, pvalue=0.49431164600731514, df=138)"
      ]
     },
     "execution_count": 15,
     "metadata": {},
     "output_type": "execute_result"
    }
   ],
   "source": [
    "#Dependent sample Paired T-Test\n",
    "from scipy.stats import ttest_rel\n",
    "dataset=dataset.dropna()\n",
    "male=dataset[dataset['gender']=='M']['ssc_p']\n",
    "male1=dataset[dataset['gender']=='M']['hsc_p']\n",
    "ttest_rel(male,male1)"
   ]
  },
  {
   "cell_type": "code",
   "execution_count": null,
   "id": "994705b8-83bf-4b41-8a8e-e426a653f5bd",
   "metadata": {},
   "outputs": [],
   "source": []
  }
 ],
 "metadata": {
  "kernelspec": {
   "display_name": "Python [conda env:base] *",
   "language": "python",
   "name": "conda-base-py"
  },
  "language_info": {
   "codemirror_mode": {
    "name": "ipython",
    "version": 3
   },
   "file_extension": ".py",
   "mimetype": "text/x-python",
   "name": "python",
   "nbconvert_exporter": "python",
   "pygments_lexer": "ipython3",
   "version": "3.12.7"
  }
 },
 "nbformat": 4,
 "nbformat_minor": 5
}
