{
 "cells": [
  {
   "cell_type": "code",
   "execution_count": 1,
   "id": "e28233a5-e019-42d3-a854-dd2e755a16b8",
   "metadata": {},
   "outputs": [],
   "source": [
    "import pandas as pd\n",
    "import numpy as np\n",
    "import scipy.stats as stats"
   ]
  },
  {
   "cell_type": "code",
   "execution_count": 2,
   "id": "33672637-15e0-4f79-a639-7d4ac6fe7d7a",
   "metadata": {},
   "outputs": [],
   "source": [
    "dataset=pd.read_csv(\"Preplacementdata.csv\")"
   ]
  },
  {
   "cell_type": "code",
   "execution_count": 5,
   "id": "ead4ac35-ddd2-4da2-8511-871d48b8e9e3",
   "metadata": {},
   "outputs": [
    {
     "data": {
      "text/plain": [
       "F_onewayResult(statistic=0.6719700864663097, pvalue=0.5110602818995302)"
      ]
     },
     "execution_count": 5,
     "metadata": {},
     "output_type": "execute_result"
    }
   ],
   "source": [
    "stats.f_oneway(dataset[\"ssc_p\"],dataset[\"hsc_p\"],dataset[\"degree_p\"])"
   ]
  },
  {
   "cell_type": "markdown",
   "id": "c3186513-026a-4ff5-a677-9e766acbb2a1",
   "metadata": {},
   "source": [
    "Hence there is no significant interaction between ssc_p,'hsc_p and 'degree_p'"
   ]
  },
  {
   "cell_type": "code",
   "execution_count": 7,
   "id": "6cbbeb62-275d-4bb2-8a62-64139ef81a67",
   "metadata": {},
   "outputs": [],
   "source": [
    "from statsmodels.formula.api import ols\n",
    "import statsmodels.api as sm"
   ]
  },
  {
   "cell_type": "code",
   "execution_count": 11,
   "id": "739dc4d5-f8d7-436b-82b8-f64c9226b4e5",
   "metadata": {},
   "outputs": [],
   "source": [
    "model=ols('hsc_p~C(hsc_b)+C(hsc_s)+C(hsc_b):C(hsc_s)',data=dataset).fit()\n",
    "anova_table=sm.stats.anova_lm(model,typ=2)"
   ]
  },
  {
   "cell_type": "code",
   "execution_count": 13,
   "id": "2535d6bb-ee67-4b23-b372-097e7dac1b47",
   "metadata": {},
   "outputs": [
    {
     "name": "stdout",
     "output_type": "stream",
     "text": [
      "                         sum_sq     df         F    PR(>F)\n",
      "C(hsc_b)               0.164959    1.0  0.001497  0.969178\n",
      "C(hsc_s)            1688.275239    2.0  7.658114  0.000617\n",
      "C(hsc_b):C(hsc_s)    678.109225    2.0  3.075943  0.048241\n",
      "Residual           23037.625304  209.0       NaN       NaN\n"
     ]
    }
   ],
   "source": [
    "print(anova_table)"
   ]
  },
  {
   "cell_type": "markdown",
   "id": "0182b6c7-143c-42bd-ae50-1e3894d3eb28",
   "metadata": {},
   "source": [
    "INFERENCE FROM THE ABOVE TABLE:\n",
    "Probability of HSC Board on HSC pass mark is 0.96>0.05: The hsc_b has no significant effect on hsc_p\n",
    "Probability of HSC specialization on HSC pass mark is 0.0006<0.05: The hsc_s has significant effect on hsc_p\n",
    "Interaction effect of HSC_B and HSC_S on HSC_P is 0.04<0.05: There is significant interaction effect"
   ]
  }
 ],
 "metadata": {
  "kernelspec": {
   "display_name": "Python [conda env:base] *",
   "language": "python",
   "name": "conda-base-py"
  },
  "language_info": {
   "codemirror_mode": {
    "name": "ipython",
    "version": 3
   },
   "file_extension": ".py",
   "mimetype": "text/x-python",
   "name": "python",
   "nbconvert_exporter": "python",
   "pygments_lexer": "ipython3",
   "version": "3.12.7"
  }
 },
 "nbformat": 4,
 "nbformat_minor": 5
}
